{
  "nbformat": 4,
  "nbformat_minor": 0,
  "metadata": {
    "colab": {
      "provenance": []
    },
    "kernelspec": {
      "name": "python3",
      "display_name": "Python 3"
    },
    "language_info": {
      "name": "python"
    }
  },
  "cells": [
    {
      "cell_type": "code",
      "execution_count": 2,
      "metadata": {
        "id": "oHd7sJzdhOAJ"
      },
      "outputs": [],
      "source": [
        "import pandas as pd\n",
        "import numpy as np\n",
        "import seaborn as sns\n",
        "import matplotlib.pyplot as plt"
      ]
    },
    {
      "cell_type": "code",
      "source": [
        "data=pd.read_csv(\"Creditcard_data.csv\")"
      ],
      "metadata": {
        "id": "g8REmMFzhUit"
      },
      "execution_count": 3,
      "outputs": []
    },
    {
      "cell_type": "code",
      "source": [
        "data.head()"
      ],
      "metadata": {
        "colab": {
          "base_uri": "https://localhost:8080/",
          "height": 299
        },
        "id": "YvlDH-9phsvs",
        "outputId": "4b49fa7d-f8de-44c0-e0b6-fa69e5d382ac"
      },
      "execution_count": null,
      "outputs": [
        {
          "output_type": "execute_result",
          "data": {
            "text/plain": [
              "   Time        V1        V2        V3        V4        V5        V6        V7  \\\n",
              "0     0 -1.359807 -0.072781  2.536347  1.378155 -0.338321  0.462388  0.239599   \n",
              "1     0  1.191857  0.266151  0.166480  0.448154  0.060018 -0.082361 -0.078803   \n",
              "2     1 -1.358354 -1.340163  1.773209  0.379780 -0.503198  1.800499  0.791461   \n",
              "3     1 -0.966272 -0.185226  1.792993 -0.863291 -0.010309  1.247203  0.237609   \n",
              "4     2 -1.158233  0.877737  1.548718  0.403034 -0.407193  0.095921  0.592941   \n",
              "\n",
              "         V8        V9  ...       V21       V22       V23       V24       V25  \\\n",
              "0  0.098698  0.363787  ... -0.018307  0.277838 -0.110474  0.066928  0.128539   \n",
              "1  0.085102 -0.255425  ... -0.225775 -0.638672  0.101288 -0.339846  0.167170   \n",
              "2  0.247676 -1.514654  ...  0.247998  0.771679  0.909412 -0.689281 -0.327642   \n",
              "3  0.377436 -1.387024  ... -0.108300  0.005274 -0.190321 -1.175575  0.647376   \n",
              "4 -0.270533  0.817739  ... -0.009431  0.798278 -0.137458  0.141267 -0.206010   \n",
              "\n",
              "        V26       V27       V28  Amount  Class  \n",
              "0 -0.189115  0.133558 -0.021053  149.62      0  \n",
              "1  0.125895 -0.008983  0.014724    2.69      1  \n",
              "2 -0.139097 -0.055353 -0.059752  378.66      0  \n",
              "3 -0.221929  0.062723  0.061458  123.50      0  \n",
              "4  0.502292  0.219422  0.215153   69.99      0  \n",
              "\n",
              "[5 rows x 31 columns]"
            ],
            "text/html": [
              "\n",
              "  <div id=\"df-d7c939bb-2754-4d1f-98ed-e2ad981cb845\">\n",
              "    <div class=\"colab-df-container\">\n",
              "      <div>\n",
              "<style scoped>\n",
              "    .dataframe tbody tr th:only-of-type {\n",
              "        vertical-align: middle;\n",
              "    }\n",
              "\n",
              "    .dataframe tbody tr th {\n",
              "        vertical-align: top;\n",
              "    }\n",
              "\n",
              "    .dataframe thead th {\n",
              "        text-align: right;\n",
              "    }\n",
              "</style>\n",
              "<table border=\"1\" class=\"dataframe\">\n",
              "  <thead>\n",
              "    <tr style=\"text-align: right;\">\n",
              "      <th></th>\n",
              "      <th>Time</th>\n",
              "      <th>V1</th>\n",
              "      <th>V2</th>\n",
              "      <th>V3</th>\n",
              "      <th>V4</th>\n",
              "      <th>V5</th>\n",
              "      <th>V6</th>\n",
              "      <th>V7</th>\n",
              "      <th>V8</th>\n",
              "      <th>V9</th>\n",
              "      <th>...</th>\n",
              "      <th>V21</th>\n",
              "      <th>V22</th>\n",
              "      <th>V23</th>\n",
              "      <th>V24</th>\n",
              "      <th>V25</th>\n",
              "      <th>V26</th>\n",
              "      <th>V27</th>\n",
              "      <th>V28</th>\n",
              "      <th>Amount</th>\n",
              "      <th>Class</th>\n",
              "    </tr>\n",
              "  </thead>\n",
              "  <tbody>\n",
              "    <tr>\n",
              "      <th>0</th>\n",
              "      <td>0</td>\n",
              "      <td>-1.359807</td>\n",
              "      <td>-0.072781</td>\n",
              "      <td>2.536347</td>\n",
              "      <td>1.378155</td>\n",
              "      <td>-0.338321</td>\n",
              "      <td>0.462388</td>\n",
              "      <td>0.239599</td>\n",
              "      <td>0.098698</td>\n",
              "      <td>0.363787</td>\n",
              "      <td>...</td>\n",
              "      <td>-0.018307</td>\n",
              "      <td>0.277838</td>\n",
              "      <td>-0.110474</td>\n",
              "      <td>0.066928</td>\n",
              "      <td>0.128539</td>\n",
              "      <td>-0.189115</td>\n",
              "      <td>0.133558</td>\n",
              "      <td>-0.021053</td>\n",
              "      <td>149.62</td>\n",
              "      <td>0</td>\n",
              "    </tr>\n",
              "    <tr>\n",
              "      <th>1</th>\n",
              "      <td>0</td>\n",
              "      <td>1.191857</td>\n",
              "      <td>0.266151</td>\n",
              "      <td>0.166480</td>\n",
              "      <td>0.448154</td>\n",
              "      <td>0.060018</td>\n",
              "      <td>-0.082361</td>\n",
              "      <td>-0.078803</td>\n",
              "      <td>0.085102</td>\n",
              "      <td>-0.255425</td>\n",
              "      <td>...</td>\n",
              "      <td>-0.225775</td>\n",
              "      <td>-0.638672</td>\n",
              "      <td>0.101288</td>\n",
              "      <td>-0.339846</td>\n",
              "      <td>0.167170</td>\n",
              "      <td>0.125895</td>\n",
              "      <td>-0.008983</td>\n",
              "      <td>0.014724</td>\n",
              "      <td>2.69</td>\n",
              "      <td>1</td>\n",
              "    </tr>\n",
              "    <tr>\n",
              "      <th>2</th>\n",
              "      <td>1</td>\n",
              "      <td>-1.358354</td>\n",
              "      <td>-1.340163</td>\n",
              "      <td>1.773209</td>\n",
              "      <td>0.379780</td>\n",
              "      <td>-0.503198</td>\n",
              "      <td>1.800499</td>\n",
              "      <td>0.791461</td>\n",
              "      <td>0.247676</td>\n",
              "      <td>-1.514654</td>\n",
              "      <td>...</td>\n",
              "      <td>0.247998</td>\n",
              "      <td>0.771679</td>\n",
              "      <td>0.909412</td>\n",
              "      <td>-0.689281</td>\n",
              "      <td>-0.327642</td>\n",
              "      <td>-0.139097</td>\n",
              "      <td>-0.055353</td>\n",
              "      <td>-0.059752</td>\n",
              "      <td>378.66</td>\n",
              "      <td>0</td>\n",
              "    </tr>\n",
              "    <tr>\n",
              "      <th>3</th>\n",
              "      <td>1</td>\n",
              "      <td>-0.966272</td>\n",
              "      <td>-0.185226</td>\n",
              "      <td>1.792993</td>\n",
              "      <td>-0.863291</td>\n",
              "      <td>-0.010309</td>\n",
              "      <td>1.247203</td>\n",
              "      <td>0.237609</td>\n",
              "      <td>0.377436</td>\n",
              "      <td>-1.387024</td>\n",
              "      <td>...</td>\n",
              "      <td>-0.108300</td>\n",
              "      <td>0.005274</td>\n",
              "      <td>-0.190321</td>\n",
              "      <td>-1.175575</td>\n",
              "      <td>0.647376</td>\n",
              "      <td>-0.221929</td>\n",
              "      <td>0.062723</td>\n",
              "      <td>0.061458</td>\n",
              "      <td>123.50</td>\n",
              "      <td>0</td>\n",
              "    </tr>\n",
              "    <tr>\n",
              "      <th>4</th>\n",
              "      <td>2</td>\n",
              "      <td>-1.158233</td>\n",
              "      <td>0.877737</td>\n",
              "      <td>1.548718</td>\n",
              "      <td>0.403034</td>\n",
              "      <td>-0.407193</td>\n",
              "      <td>0.095921</td>\n",
              "      <td>0.592941</td>\n",
              "      <td>-0.270533</td>\n",
              "      <td>0.817739</td>\n",
              "      <td>...</td>\n",
              "      <td>-0.009431</td>\n",
              "      <td>0.798278</td>\n",
              "      <td>-0.137458</td>\n",
              "      <td>0.141267</td>\n",
              "      <td>-0.206010</td>\n",
              "      <td>0.502292</td>\n",
              "      <td>0.219422</td>\n",
              "      <td>0.215153</td>\n",
              "      <td>69.99</td>\n",
              "      <td>0</td>\n",
              "    </tr>\n",
              "  </tbody>\n",
              "</table>\n",
              "<p>5 rows × 31 columns</p>\n",
              "</div>\n",
              "      <button class=\"colab-df-convert\" onclick=\"convertToInteractive('df-d7c939bb-2754-4d1f-98ed-e2ad981cb845')\"\n",
              "              title=\"Convert this dataframe to an interactive table.\"\n",
              "              style=\"display:none;\">\n",
              "        \n",
              "  <svg xmlns=\"http://www.w3.org/2000/svg\" height=\"24px\"viewBox=\"0 0 24 24\"\n",
              "       width=\"24px\">\n",
              "    <path d=\"M0 0h24v24H0V0z\" fill=\"none\"/>\n",
              "    <path d=\"M18.56 5.44l.94 2.06.94-2.06 2.06-.94-2.06-.94-.94-2.06-.94 2.06-2.06.94zm-11 1L8.5 8.5l.94-2.06 2.06-.94-2.06-.94L8.5 2.5l-.94 2.06-2.06.94zm10 10l.94 2.06.94-2.06 2.06-.94-2.06-.94-.94-2.06-.94 2.06-2.06.94z\"/><path d=\"M17.41 7.96l-1.37-1.37c-.4-.4-.92-.59-1.43-.59-.52 0-1.04.2-1.43.59L10.3 9.45l-7.72 7.72c-.78.78-.78 2.05 0 2.83L4 21.41c.39.39.9.59 1.41.59.51 0 1.02-.2 1.41-.59l7.78-7.78 2.81-2.81c.8-.78.8-2.07 0-2.86zM5.41 20L4 18.59l7.72-7.72 1.47 1.35L5.41 20z\"/>\n",
              "  </svg>\n",
              "      </button>\n",
              "      \n",
              "  <style>\n",
              "    .colab-df-container {\n",
              "      display:flex;\n",
              "      flex-wrap:wrap;\n",
              "      gap: 12px;\n",
              "    }\n",
              "\n",
              "    .colab-df-convert {\n",
              "      background-color: #E8F0FE;\n",
              "      border: none;\n",
              "      border-radius: 50%;\n",
              "      cursor: pointer;\n",
              "      display: none;\n",
              "      fill: #1967D2;\n",
              "      height: 32px;\n",
              "      padding: 0 0 0 0;\n",
              "      width: 32px;\n",
              "    }\n",
              "\n",
              "    .colab-df-convert:hover {\n",
              "      background-color: #E2EBFA;\n",
              "      box-shadow: 0px 1px 2px rgba(60, 64, 67, 0.3), 0px 1px 3px 1px rgba(60, 64, 67, 0.15);\n",
              "      fill: #174EA6;\n",
              "    }\n",
              "\n",
              "    [theme=dark] .colab-df-convert {\n",
              "      background-color: #3B4455;\n",
              "      fill: #D2E3FC;\n",
              "    }\n",
              "\n",
              "    [theme=dark] .colab-df-convert:hover {\n",
              "      background-color: #434B5C;\n",
              "      box-shadow: 0px 1px 3px 1px rgba(0, 0, 0, 0.15);\n",
              "      filter: drop-shadow(0px 1px 2px rgba(0, 0, 0, 0.3));\n",
              "      fill: #FFFFFF;\n",
              "    }\n",
              "  </style>\n",
              "\n",
              "      <script>\n",
              "        const buttonEl =\n",
              "          document.querySelector('#df-d7c939bb-2754-4d1f-98ed-e2ad981cb845 button.colab-df-convert');\n",
              "        buttonEl.style.display =\n",
              "          google.colab.kernel.accessAllowed ? 'block' : 'none';\n",
              "\n",
              "        async function convertToInteractive(key) {\n",
              "          const element = document.querySelector('#df-d7c939bb-2754-4d1f-98ed-e2ad981cb845');\n",
              "          const dataTable =\n",
              "            await google.colab.kernel.invokeFunction('convertToInteractive',\n",
              "                                                     [key], {});\n",
              "          if (!dataTable) return;\n",
              "\n",
              "          const docLinkHtml = 'Like what you see? Visit the ' +\n",
              "            '<a target=\"_blank\" href=https://colab.research.google.com/notebooks/data_table.ipynb>data table notebook</a>'\n",
              "            + ' to learn more about interactive tables.';\n",
              "          element.innerHTML = '';\n",
              "          dataTable['output_type'] = 'display_data';\n",
              "          await google.colab.output.renderOutput(dataTable, element);\n",
              "          const docLink = document.createElement('div');\n",
              "          docLink.innerHTML = docLinkHtml;\n",
              "          element.appendChild(docLink);\n",
              "        }\n",
              "      </script>\n",
              "    </div>\n",
              "  </div>\n",
              "  "
            ]
          },
          "metadata": {},
          "execution_count": 4
        }
      ]
    },
    {
      "cell_type": "code",
      "source": [
        "!pip install imbalanced-learn"
      ],
      "metadata": {
        "colab": {
          "base_uri": "https://localhost:8080/"
        },
        "id": "f78FH3kchw76",
        "outputId": "5fd9057e-18ee-4154-eb77-7261a3548c8b"
      },
      "execution_count": null,
      "outputs": [
        {
          "output_type": "stream",
          "name": "stdout",
          "text": [
            "Looking in indexes: https://pypi.org/simple, https://us-python.pkg.dev/colab-wheels/public/simple/\n",
            "Requirement already satisfied: imbalanced-learn in /usr/local/lib/python3.8/dist-packages (0.8.1)\n",
            "Requirement already satisfied: scipy>=0.19.1 in /usr/local/lib/python3.8/dist-packages (from imbalanced-learn) (1.7.3)\n",
            "Requirement already satisfied: joblib>=0.11 in /usr/local/lib/python3.8/dist-packages (from imbalanced-learn) (1.2.0)\n",
            "Requirement already satisfied: scikit-learn>=0.24 in /usr/local/lib/python3.8/dist-packages (from imbalanced-learn) (1.0.2)\n",
            "Requirement already satisfied: numpy>=1.13.3 in /usr/local/lib/python3.8/dist-packages (from imbalanced-learn) (1.21.6)\n",
            "Requirement already satisfied: threadpoolctl>=2.0.0 in /usr/local/lib/python3.8/dist-packages (from scikit-learn>=0.24->imbalanced-learn) (3.1.0)\n"
          ]
        }
      ]
    },
    {
      "cell_type": "code",
      "source": [
        "colors = [\"#0101EF\", \"#DF0101\"]\n",
        "\n",
        "sns.countplot('Class', data=data, palette=colors)\n",
        "plt.title('Class Distributions \\n (0 || 1)', fontsize=14)\n",
        "#We can see that it is heavily baised"
      ],
      "metadata": {
        "colab": {
          "base_uri": "https://localhost:8080/",
          "height": 385
        },
        "id": "OsY0XtI4jDTk",
        "outputId": "25684639-f9fa-459e-f1e7-146011c899aa"
      },
      "execution_count": 4,
      "outputs": [
        {
          "output_type": "stream",
          "name": "stderr",
          "text": [
            "/usr/local/lib/python3.8/dist-packages/seaborn/_decorators.py:36: FutureWarning: Pass the following variable as a keyword arg: x. From version 0.12, the only valid positional argument will be `data`, and passing other arguments without an explicit keyword will result in an error or misinterpretation.\n",
            "  warnings.warn(\n"
          ]
        },
        {
          "output_type": "execute_result",
          "data": {
            "text/plain": [
              "Text(0.5, 1.0, 'Class Distributions \\n (0 || 1)')"
            ]
          },
          "metadata": {},
          "execution_count": 4
        },
        {
          "output_type": "display_data",
          "data": {
            "text/plain": [
              "<Figure size 432x288 with 1 Axes>"
            ],
            "image/png": "[encoded data removed]"
          },
          "metadata": {
            "needs_background": "light"
          }
        }
      ]
    },
    {
      "cell_type": "code",
      "source": [
        "import imblearn"
      ],
      "metadata": {
        "id": "E-gWRdJwiSun"
      },
      "execution_count": 11,
      "outputs": []
    },
    {
      "cell_type": "code",
      "source": [
        "from imblearn.over_sampling import RandomOverSampler\n",
        "from imblearn.under_sampling import RandomUnderSampler"
      ],
      "metadata": {
        "id": "ho-B2x72pHBk"
      },
      "execution_count": 12,
      "outputs": []
    },
    {
      "cell_type": "code",
      "source": [
        "y=data[\"Class\"]"
      ],
      "metadata": {
        "id": "klgO0RQbqGWZ"
      },
      "execution_count": 5,
      "outputs": []
    },
    {
      "cell_type": "code",
      "source": [
        "x=data[data.columns.drop(\"Class\")]"
      ],
      "metadata": {
        "id": "kvWUWcJJpdjC"
      },
      "execution_count": 6,
      "outputs": []
    },
    {
      "cell_type": "code",
      "source": [
        "r1=RandomOverSampler(random_state=42)\n",
        "x_r1, y_r1 = r1.fit_resample(x, y)\n",
        "print('Brfore Under sampling', y.value_counts())\n",
        "print('After Under sampling', y_r1.value_counts())"
      ],
      "metadata": {
        "colab": {
          "base_uri": "https://localhost:8080/"
        },
        "id": "cIldfy1SqKiF",
        "outputId": "b673ee93-3cae-4c81-e22c-273e2e6543b0"
      },
      "execution_count": 13,
      "outputs": [
        {
          "output_type": "stream",
          "name": "stdout",
          "text": [
            "Brfore Under sampling 0    763\n",
            "1      9\n",
            "Name: Class, dtype: int64\n",
            "After Under sampling 0    763\n",
            "1    763\n",
            "Name: Class, dtype: int64\n"
          ]
        }
      ]
    },
    {
      "cell_type": "markdown",
      "source": [
        "# Random Sampling"
      ],
      "metadata": {
        "id": "Xgci99mCyVb_"
      }
    },
    {
      "cell_type": "code",
      "source": [
        "import random"
      ],
      "metadata": {
        "id": "ImTKjZv6r7Ff"
      },
      "execution_count": 8,
      "outputs": []
    },
    {
      "cell_type": "code",
      "source": [
        "x_s1=x_r1.sample(300,random_state=24)\n",
        "y_s1=y_r1.sample(300,random_state=24)"
      ],
      "metadata": {
        "id": "oSArvE5HybQ1"
      },
      "execution_count": 14,
      "outputs": []
    },
    {
      "cell_type": "markdown",
      "source": [
        "# Stratified Sampling"
      ],
      "metadata": {
        "id": "NT0yytShzhQr"
      }
    },
    {
      "cell_type": "code",
      "source": [
        "x_s2_0=x_r1[y_r1.iloc[:]==0]\n",
        "x_s2_1=x_r1[y_r1.iloc[:]==1]\n",
        "y_s2_0=y_r1[y_r1.iloc[:]==0]\n",
        "y_s2_1=y_r1[y_r1.iloc[:]==1]"
      ],
      "metadata": {
        "id": "M98_q9vuzgTw"
      },
      "execution_count": 15,
      "outputs": []
    },
    {
      "cell_type": "code",
      "source": [
        "x_s2=x_s2_0.sample(100,random_state=24)\n",
        "x_s2=x_s2.append(x_s2_1.sample(50,random_state=24))\n",
        "y_s2=y_s2_0.sample(100,random_state=24)\n",
        "y_s2=y_s2.append(y_s2_1.sample(50,random_state=24))"
      ],
      "metadata": {
        "id": "UVZM29Fq0T3k"
      },
      "execution_count": 16,
      "outputs": []
    },
    {
      "cell_type": "markdown",
      "source": [
        "# SMOTE (Synthetic Minority Oversampling Technique)"
      ],
      "metadata": {
        "id": "X5X8Sg6H33QH"
      }
    },
    {
      "cell_type": "code",
      "source": [
        "from imblearn.over_sampling import SMOTE"
      ],
      "metadata": {
        "id": "tmpNY6UI31tt"
      },
      "execution_count": 17,
      "outputs": []
    },
    {
      "cell_type": "code",
      "source": [
        "oversample = SMOTE()\n",
        "x_s3, y_s3 = oversample.fit_resample(x, y)"
      ],
      "metadata": {
        "id": "9U1UR2W37idc"
      },
      "execution_count": 91,
      "outputs": []
    },
    {
      "cell_type": "code",
      "source": [
        "df_smo = pd.DataFrame(np.hstack((x_s3,y_s3[:, None])), columns=data.columns)\n",
        "df_smo.Class = df_smo.Class.astype(int)\n",
        "df_smo.head()"
      ],
      "metadata": {
        "colab": {
          "base_uri": "https://localhost:8080/",
          "height": 334
        },
        "id": "9MmIAH2K8V-x",
        "outputId": "2965ef3a-fda9-4631-b0e1-cfcb448b84cd"
      },
      "execution_count": 92,
      "outputs": [
        {
          "output_type": "stream",
          "name": "stderr",
          "text": [
            "<ipython-input-92-0b67dbdd8dff>:1: FutureWarning: Support for multi-dimensional indexing (e.g. `obj[:, None]`) is deprecated and will be removed in a future version.  Convert to a numpy array before indexing instead.\n",
            "  df_smo = pd.DataFrame(np.hstack((x_s3,y_s3[:, None])), columns=data.columns)\n"
          ]
        },
        {
          "output_type": "execute_result",
          "data": {
            "text/plain": [
              "   Time        V1        V2        V3        V4        V5        V6        V7  \\\n",
              "0   0.0 -1.359807 -0.072781  2.536347  1.378155 -0.338321  0.462388  0.239599   \n",
              "1   0.0  1.191857  0.266151  0.166480  0.448154  0.060018 -0.082361 -0.078803   \n",
              "2   1.0 -1.358354 -1.340163  1.773209  0.379780 -0.503198  1.800499  0.791461   \n",
              "3   1.0 -0.966272 -0.185226  1.792993 -0.863291 -0.010309  1.247203  0.237609   \n",
              "4   2.0 -1.158233  0.877737  1.548718  0.403034 -0.407193  0.095921  0.592941   \n",
              "\n",
              "         V8        V9  ...       V21       V22       V23       V24       V25  \\\n",
              "0  0.098698  0.363787  ... -0.018307  0.277838 -0.110474  0.066928  0.128539   \n",
              "1  0.085102 -0.255425  ... -0.225775 -0.638672  0.101288 -0.339846  0.167170   \n",
              "2  0.247676 -1.514654  ...  0.247998  0.771679  0.909412 -0.689281 -0.327642   \n",
              "3  0.377436 -1.387024  ... -0.108300  0.005274 -0.190321 -1.175575  0.647376   \n",
              "4 -0.270533  0.817739  ... -0.009431  0.798278 -0.137458  0.141267 -0.206010   \n",
              "\n",
              "        V26       V27       V28  Amount  Class  \n",
              "0 -0.189115  0.133558 -0.021053  149.62      0  \n",
              "1  0.125895 -0.008983  0.014724    2.69      1  \n",
              "2 -0.139097 -0.055353 -0.059752  378.66      0  \n",
              "3 -0.221929  0.062723  0.061458  123.50      0  \n",
              "4  0.502292  0.219422  0.215153   69.99      0  \n",
              "\n",
              "[5 rows x 31 columns]"
            ],
            "text/html": [
              "\n",
              "  <div id=\"df-c9a1f151-4c93-4f1e-b84f-3176217e1086\">\n",
              "    <div class=\"colab-df-container\">\n",
              "      <div>\n",
              "<style scoped>\n",
              "    .dataframe tbody tr th:only-of-type {\n",
              "        vertical-align: middle;\n",
              "    }\n",
              "\n",
              "    .dataframe tbody tr th {\n",
              "        vertical-align: top;\n",
              "    }\n",
              "\n",
              "    .dataframe thead th {\n",
              "        text-align: right;\n",
              "    }\n",
              "</style>\n",
              "<table border=\"1\" class=\"dataframe\">\n",
              "  <thead>\n",
              "    <tr style=\"text-align: right;\">\n",
              "      <th></th>\n",
              "      <th>Time</th>\n",
              "      <th>V1</th>\n",
              "      <th>V2</th>\n",
              "      <th>V3</th>\n",
              "      <th>V4</th>\n",
              "      <th>V5</th>\n",
              "      <th>V6</th>\n",
              "      <th>V7</th>\n",
              "      <th>V8</th>\n",
              "      <th>V9</th>\n",
              "      <th>...</th>\n",
              "      <th>V21</th>\n",
              "      <th>V22</th>\n",
              "      <th>V23</th>\n",
              "      <th>V24</th>\n",
              "      <th>V25</th>\n",
              "      <th>V26</th>\n",
              "      <th>V27</th>\n",
              "      <th>V28</th>\n",
              "      <th>Amount</th>\n",
              "      <th>Class</th>\n",
              "    </tr>\n",
              "  </thead>\n",
              "  <tbody>\n",
              "    <tr>\n",
              "      <th>0</th>\n",
              "      <td>0.0</td>\n",
              "      <td>-1.359807</td>\n",
              "      <td>-0.072781</td>\n",
              "      <td>2.536347</td>\n",
              "      <td>1.378155</td>\n",
              "      <td>-0.338321</td>\n",
              "      <td>0.462388</td>\n",
              "      <td>0.239599</td>\n",
              "      <td>0.098698</td>\n",
              "      <td>0.363787</td>\n",
              "      <td>...</td>\n",
              "      <td>-0.018307</td>\n",
              "      <td>0.277838</td>\n",
              "      <td>-0.110474</td>\n",
              "      <td>0.066928</td>\n",
              "      <td>0.128539</td>\n",
              "      <td>-0.189115</td>\n",
              "      <td>0.133558</td>\n",
              "      <td>-0.021053</td>\n",
              "      <td>149.62</td>\n",
              "      <td>0</td>\n",
              "    </tr>\n",
              "    <tr>\n",
              "      <th>1</th>\n",
              "      <td>0.0</td>\n",
              "      <td>1.191857</td>\n",
              "      <td>0.266151</td>\n",
              "      <td>0.166480</td>\n",
              "      <td>0.448154</td>\n",
              "      <td>0.060018</td>\n",
              "      <td>-0.082361</td>\n",
              "      <td>-0.078803</td>\n",
              "      <td>0.085102</td>\n",
              "      <td>-0.255425</td>\n",
              "      <td>...</td>\n",
              "      <td>-0.225775</td>\n",
              "      <td>-0.638672</td>\n",
              "      <td>0.101288</td>\n",
              "      <td>-0.339846</td>\n",
              "      <td>0.167170</td>\n",
              "      <td>0.125895</td>\n",
              "      <td>-0.008983</td>\n",
              "      <td>0.014724</td>\n",
              "      <td>2.69</td>\n",
              "      <td>1</td>\n",
              "    </tr>\n",
              "    <tr>\n",
              "      <th>2</th>\n",
              "      <td>1.0</td>\n",
              "      <td>-1.358354</td>\n",
              "      <td>-1.340163</td>\n",
              "      <td>1.773209</td>\n",
              "      <td>0.379780</td>\n",
              "      <td>-0.503198</td>\n",
              "      <td>1.800499</td>\n",
              "      <td>0.791461</td>\n",
              "      <td>0.247676</td>\n",
              "      <td>-1.514654</td>\n",
              "      <td>...</td>\n",
              "      <td>0.247998</td>\n",
              "      <td>0.771679</td>\n",
              "      <td>0.909412</td>\n",
              "      <td>-0.689281</td>\n",
              "      <td>-0.327642</td>\n",
              "      <td>-0.139097</td>\n",
              "      <td>-0.055353</td>\n",
              "      <td>-0.059752</td>\n",
              "      <td>378.66</td>\n",
              "      <td>0</td>\n",
              "    </tr>\n",
              "    <tr>\n",
              "      <th>3</th>\n",
              "      <td>1.0</td>\n",
              "      <td>-0.966272</td>\n",
              "      <td>-0.185226</td>\n",
              "      <td>1.792993</td>\n",
              "      <td>-0.863291</td>\n",
              "      <td>-0.010309</td>\n",
              "      <td>1.247203</td>\n",
              "      <td>0.237609</td>\n",
              "      <td>0.377436</td>\n",
              "      <td>-1.387024</td>\n",
              "      <td>...</td>\n",
              "      <td>-0.108300</td>\n",
              "      <td>0.005274</td>\n",
              "      <td>-0.190321</td>\n",
              "      <td>-1.175575</td>\n",
              "      <td>0.647376</td>\n",
              "      <td>-0.221929</td>\n",
              "      <td>0.062723</td>\n",
              "      <td>0.061458</td>\n",
              "      <td>123.50</td>\n",
              "      <td>0</td>\n",
              "    </tr>\n",
              "    <tr>\n",
              "      <th>4</th>\n",
              "      <td>2.0</td>\n",
              "      <td>-1.158233</td>\n",
              "      <td>0.877737</td>\n",
              "      <td>1.548718</td>\n",
              "      <td>0.403034</td>\n",
              "      <td>-0.407193</td>\n",
              "      <td>0.095921</td>\n",
              "      <td>0.592941</td>\n",
              "      <td>-0.270533</td>\n",
              "      <td>0.817739</td>\n",
              "      <td>...</td>\n",
              "      <td>-0.009431</td>\n",
              "      <td>0.798278</td>\n",
              "      <td>-0.137458</td>\n",
              "      <td>0.141267</td>\n",
              "      <td>-0.206010</td>\n",
              "      <td>0.502292</td>\n",
              "      <td>0.219422</td>\n",
              "      <td>0.215153</td>\n",
              "      <td>69.99</td>\n",
              "      <td>0</td>\n",
              "    </tr>\n",
              "  </tbody>\n",
              "</table>\n",
              "<p>5 rows × 31 columns</p>\n",
              "</div>\n",
              "      <button class=\"colab-df-convert\" onclick=\"convertToInteractive('df-c9a1f151-4c93-4f1e-b84f-3176217e1086')\"\n",
              "              title=\"Convert this dataframe to an interactive table.\"\n",
              "              style=\"display:none;\">\n",
              "        \n",
              "  <svg xmlns=\"http://www.w3.org/2000/svg\" height=\"24px\"viewBox=\"0 0 24 24\"\n",
              "       width=\"24px\">\n",
              "    <path d=\"M0 0h24v24H0V0z\" fill=\"none\"/>\n",
              "    <path d=\"M18.56 5.44l.94 2.06.94-2.06 2.06-.94-2.06-.94-.94-2.06-.94 2.06-2.06.94zm-11 1L8.5 8.5l.94-2.06 2.06-.94-2.06-.94L8.5 2.5l-.94 2.06-2.06.94zm10 10l.94 2.06.94-2.06 2.06-.94-2.06-.94-.94-2.06-.94 2.06-2.06.94z\"/><path d=\"M17.41 7.96l-1.37-1.37c-.4-.4-.92-.59-1.43-.59-.52 0-1.04.2-1.43.59L10.3 9.45l-7.72 7.72c-.78.78-.78 2.05 0 2.83L4 21.41c.39.39.9.59 1.41.59.51 0 1.02-.2 1.41-.59l7.78-7.78 2.81-2.81c.8-.78.8-2.07 0-2.86zM5.41 20L4 18.59l7.72-7.72 1.47 1.35L5.41 20z\"/>\n",
              "  </svg>\n",
              "      </button>\n",
              "      \n",
              "  <style>\n",
              "    .colab-df-container {\n",
              "      display:flex;\n",
              "      flex-wrap:wrap;\n",
              "      gap: 12px;\n",
              "    }\n",
              "\n",
              "    .colab-df-convert {\n",
              "      background-color: #E8F0FE;\n",
              "      border: none;\n",
              "      border-radius: 50%;\n",
              "      cursor: pointer;\n",
              "      display: none;\n",
              "      fill: #1967D2;\n",
              "      height: 32px;\n",
              "      padding: 0 0 0 0;\n",
              "      width: 32px;\n",
              "    }\n",
              "\n",
              "    .colab-df-convert:hover {\n",
              "      background-color: #E2EBFA;\n",
              "      box-shadow: 0px 1px 2px rgba(60, 64, 67, 0.3), 0px 1px 3px 1px rgba(60, 64, 67, 0.15);\n",
              "      fill: #174EA6;\n",
              "    }\n",
              "\n",
              "    [theme=dark] .colab-df-convert {\n",
              "      background-color: #3B4455;\n",
              "      fill: #D2E3FC;\n",
              "    }\n",
              "\n",
              "    [theme=dark] .colab-df-convert:hover {\n",
              "      background-color: #434B5C;\n",
              "      box-shadow: 0px 1px 3px 1px rgba(0, 0, 0, 0.15);\n",
              "      filter: drop-shadow(0px 1px 2px rgba(0, 0, 0, 0.3));\n",
              "      fill: #FFFFFF;\n",
              "    }\n",
              "  </style>\n",
              "\n",
              "      <script>\n",
              "        const buttonEl =\n",
              "          document.querySelector('#df-c9a1f151-4c93-4f1e-b84f-3176217e1086 button.colab-df-convert');\n",
              "        buttonEl.style.display =\n",
              "          google.colab.kernel.accessAllowed ? 'block' : 'none';\n",
              "\n",
              "        async function convertToInteractive(key) {\n",
              "          const element = document.querySelector('#df-c9a1f151-4c93-4f1e-b84f-3176217e1086');\n",
              "          const dataTable =\n",
              "            await google.colab.kernel.invokeFunction('convertToInteractive',\n",
              "                                                     [key], {});\n",
              "          if (!dataTable) return;\n",
              "\n",
              "          const docLinkHtml = 'Like what you see? Visit the ' +\n",
              "            '<a target=\"_blank\" href=https://colab.research.google.com/notebooks/data_table.ipynb>data table notebook</a>'\n",
              "            + ' to learn more about interactive tables.';\n",
              "          element.innerHTML = '';\n",
              "          dataTable['output_type'] = 'display_data';\n",
              "          await google.colab.output.renderOutput(dataTable, element);\n",
              "          const docLink = document.createElement('div');\n",
              "          docLink.innerHTML = docLinkHtml;\n",
              "          element.appendChild(docLink);\n",
              "        }\n",
              "      </script>\n",
              "    </div>\n",
              "  </div>\n",
              "  "
            ]
          },
          "metadata": {},
          "execution_count": 92
        }
      ]
    },
    {
      "cell_type": "markdown",
      "source": [
        "# SMOTE-ENN (Edited Nearest Neighbor) "
      ],
      "metadata": {
        "id": "F1Tb5BUCDcjp"
      }
    },
    {
      "cell_type": "code",
      "source": [
        "from sklearn.model_selection import RepeatedStratifiedKFold\n",
        "from sklearn.pipeline import Pipeline\n",
        "from imblearn.combine import SMOTEENN\n",
        "from imblearn.under_sampling import EditedNearestNeighbours\n",
        "from sklearn.model_selection import cross_validate"
      ],
      "metadata": {
        "id": "TgpAbE2q_OKN"
      },
      "execution_count": 20,
      "outputs": []
    },
    {
      "cell_type": "code",
      "source": [
        "resample=SMOTEENN(enn=EditedNearestNeighbours(sampling_strategy='all'))\n",
        "x_s4 , y_s4 = resample.fit_resample(x,y)"
      ],
      "metadata": {
        "id": "fw3CtzyNDxBB"
      },
      "execution_count": 93,
      "outputs": []
    },
    {
      "cell_type": "markdown",
      "source": [
        "# Systematic Sampling"
      ],
      "metadata": {
        "id": "vmvTrSejEFwf"
      }
    },
    {
      "cell_type": "code",
      "source": [
        "import math"
      ],
      "metadata": {
        "id": "UkPsZTQTD9n-"
      },
      "execution_count": 22,
      "outputs": []
    },
    {
      "cell_type": "code",
      "source": [
        "interval = math.floor(x_r1.shape[0]/150)\n",
        "\n",
        "start = 10\n",
        "# Perform systematic sampling\n",
        "x_s5 = x_r1.iloc[start::interval]\n",
        "y_s5 = y_r1.iloc[start::interval]\n",
        "\n",
        "print(x_s5,y_s5)"
      ],
      "metadata": {
        "colab": {
          "base_uri": "https://localhost:8080/"
        },
        "id": "jQzhCbJDEs8R",
        "outputId": "0ba5dcfc-aa34-4ddf-84c7-e3c6eed6ed2f"
      },
      "execution_count": 23,
      "outputs": [
        {
          "output_type": "stream",
          "name": "stdout",
          "text": [
            "      Time        V1        V2        V3        V4        V5        V6  \\\n",
            "10      10  1.449044 -1.176339  0.913860 -1.375667 -1.971383 -0.629152   \n",
            "20      16  0.694885 -1.361819  1.029221  0.834159 -1.191209  1.309109   \n",
            "30      24  1.237429  0.061043  0.380526  0.761564 -0.359771 -0.494084   \n",
            "40      32  1.249055 -0.624727 -0.710589 -0.991600  1.429973  3.692977   \n",
            "50      35  1.199356  0.129953  0.863585  1.002635 -0.783761 -0.884679   \n",
            "...    ...       ...       ...       ...       ...       ...       ...   \n",
            "1480   472 -3.043541 -3.157307  1.088463  2.288644  1.359805 -1.064823   \n",
            "1490   406 -2.312227  1.951992 -1.609851  3.997906 -0.522188 -1.426545   \n",
            "1500   164  0.073497  0.551033  0.451890  0.114964  0.822947  0.251480   \n",
            "1510     0  1.191857  0.266151  0.166480  0.448154  0.060018 -0.082361   \n",
            "1520   574  1.257719  0.364739  0.306923  0.690638 -0.357792 -1.067481   \n",
            "\n",
            "            V7        V8        V9  ...       V20       V21       V22  \\\n",
            "10   -1.423236  0.048456 -1.720408  ... -0.387226 -0.009302  0.313894   \n",
            "20   -0.878586  0.445290 -0.446196  ... -0.138334 -0.295583 -0.571955   \n",
            "30    0.006494 -0.133862  0.438810  ... -0.066351 -0.245682 -0.530900   \n",
            "40   -1.090209  0.967291  0.850149  ...  0.097853 -0.006293  0.009200   \n",
            "50   -0.040743 -0.208069  0.392478  ... -0.072620 -0.042468  0.198474   \n",
            "...        ...       ...       ...  ...       ...       ...       ...   \n",
            "1480  0.325574 -0.067794 -0.270953  ...  2.102339  0.661696  0.435477   \n",
            "1490 -2.537387  1.391657 -2.770089  ...  0.126911  0.517232 -0.035049   \n",
            "1500  0.296319  0.139497 -0.123050  ... -0.043920 -0.128758 -0.381932   \n",
            "1510 -0.078803  0.085102 -0.255425  ... -0.069083 -0.225775 -0.638672   \n",
            "1520  0.094272 -0.210300  0.014455  ... -0.073779 -0.286856 -0.820658   \n",
            "\n",
            "           V23       V24       V25       V26       V27       V28  Amount  \n",
            "10    0.027740  0.500512  0.251367 -0.129478  0.042850  0.016253    7.80  \n",
            "20   -0.050881 -0.304215  0.072001 -0.422234  0.086553  0.063499  231.71  \n",
            "30   -0.044265  0.079168  0.509136  0.288858 -0.022705  0.011836   17.28  \n",
            "40   -0.129463  1.112970  0.500382  1.196549 -0.048220  0.005094   29.89  \n",
            "50   -0.033010  1.013290  0.559098  0.401818 -0.005865  0.017936    0.99  \n",
            "...        ...       ...       ...       ...       ...       ...     ...  \n",
            "1480  1.375966 -0.293803  0.279798 -0.145362 -0.252773  0.035764  529.00  \n",
            "1490 -0.465211  0.320198  0.044519  0.177840  0.261145 -0.143276    0.00  \n",
            "1500  0.151012 -1.363967 -1.389079  0.075412  0.231750  0.230171    0.99  \n",
            "1510  0.101288 -0.339846  0.167170  0.125895 -0.008983  0.014724    2.69  \n",
            "1520  0.127663  0.343128  0.221120  0.094391 -0.022189  0.030944    1.29  \n",
            "\n",
            "[152 rows x 30 columns] 10      0\n",
            "20      0\n",
            "30      0\n",
            "40      0\n",
            "50      0\n",
            "       ..\n",
            "1480    1\n",
            "1490    1\n",
            "1500    1\n",
            "1510    1\n",
            "1520    1\n",
            "Name: Class, Length: 152, dtype: int64\n"
          ]
        }
      ]
    },
    {
      "cell_type": "markdown",
      "source": [
        "# Sample1"
      ],
      "metadata": {
        "id": "HoI1W1RvNW8l"
      }
    },
    {
      "cell_type": "code",
      "source": [
        "x_s1_accuracy=[]\n",
        "x_s2_accuracy=[]\n",
        "x_s3_accuracy=[]\n",
        "x_s4_accuracy=[]\n",
        "x_s5_accuracy=[]"
      ],
      "metadata": {
        "id": "idREOytHPwrK"
      },
      "execution_count": 95,
      "outputs": []
    },
    {
      "cell_type": "code",
      "source": [
        "X_train=x_s1\n",
        "y_train=y_s1\n",
        "\n",
        "X_test=x_r1\n",
        "y_test=y_r1\n",
        "\n",
        "#XG BOOST\n",
        "import xgboost as xgb\n",
        "from sklearn.model_selection import train_test_split\n",
        "\n",
        "model = xgb.XGBClassifier(max_depth=5, eta=0.7, objective='multi:softmax', num_class=5, n_estimators=10)\n",
        "model.fit(X_train,y_train)\n",
        "\n",
        "predictions = model.predict(X_test)\n",
        "\n",
        "accuracy = (predictions == y_test).mean()\n",
        "print(\"Accuracy1: \", accuracy)\n",
        "x_s1_accuracy.append(accuracy * 100)\n",
        "\n",
        "#------------------------------------------\n",
        "\n",
        "#Desicion Tree\n",
        "from sklearn.metrics import confusion_matrix\n",
        "from sklearn.model_selection import train_test_split\n",
        "from sklearn.tree import DecisionTreeClassifier\n",
        "from sklearn.metrics import accuracy_score\n",
        "from sklearn.metrics import classification_report\n",
        "\n",
        "clf_gini = DecisionTreeClassifier(criterion = \"gini\",random_state = 100,max_depth=3, min_samples_leaf=5)\n",
        "clf_gini.fit(X_train, y_train)\n",
        "\n",
        "y_pred = clf_gini.predict(X_test)\n",
        "\n",
        "accuracy=accuracy_score(y_test,y_pred)\n",
        "print (\"Accuracy2: \",accuracy*100)\n",
        "x_s1_accuracy.append(accuracy * 100)\n",
        "\n",
        "#------------------------------------------\n",
        "\n",
        "#Stochastic Gradient Descent\n",
        "from sklearn.linear_model import SGDClassifier\n",
        "clf = SGDClassifier(loss=\"modified_huber\", penalty=\"l2\", max_iter=1000)\n",
        "clf.fit(X_train, y_train)\n",
        "SGDClassifier(max_iter=5)\n",
        "\n",
        "prediction = clf.predict(X_test)\n",
        "score=clf.score(X_test, y_test)\n",
        "print (\"Accuracy3: \",score*100)\n",
        "x_s1_accuracy.append(score * 100)\n",
        "\n",
        "#------------------------------------------\n",
        "\n",
        "#K-Nearest Neighbours\n",
        "from sklearn.neighbors import KNeighborsClassifier\n",
        "\n",
        "knn = KNeighborsClassifier(n_neighbors=7)\n",
        "knn.fit(X_train, y_train)\n",
        "\n",
        "knn.predict(X_test)\n",
        "\n",
        "score=knn.score(X_test, y_test)\n",
        "print (\"Accuracy4: \",score*100)\n",
        "x_s1_accuracy.append(score * 100)\n",
        "\n",
        "#------------------------------------------\n",
        "\n",
        "#Logistic Regression\n",
        "from sklearn.linear_model import LogisticRegression\n",
        "from sklearn.model_selection import train_test_split\n",
        "from sklearn import datasets\n",
        "\n",
        "lr = LogisticRegression()\n",
        "lr.fit(X_train, y_train)\n",
        "\n",
        "y_pred = lr.predict(X_test)\n",
        "\n",
        "score = lr.score(X_test, y_test)\n",
        "print(\"Accuracy5:\", score*100)\n",
        "x_s1_accuracy.append(score * 100)\n",
        "\n"
      ],
      "metadata": {
        "colab": {
          "base_uri": "https://localhost:8080/"
        },
        "id": "83MGEHa8NZmv",
        "outputId": "28d1468a-2dfa-451e-e2de-b8bc7b1f59fc"
      },
      "execution_count": 96,
      "outputs": [
        {
          "output_type": "stream",
          "name": "stdout",
          "text": [
            "Accuracy1:  0.9796854521625163\n",
            "Accuracy2:  92.39842726081258\n",
            "Accuracy3:  47.05111402359109\n",
            "Accuracy4:  91.74311926605505\n",
            "Accuracy5: 90.56356487549148\n"
          ]
        },
        {
          "output_type": "stream",
          "name": "stderr",
          "text": [
            "/usr/local/lib/python3.8/dist-packages/sklearn/linear_model/_logistic.py:814: ConvergenceWarning: lbfgs failed to converge (status=1):\n",
            "STOP: TOTAL NO. of ITERATIONS REACHED LIMIT.\n",
            "\n",
            "Increase the number of iterations (max_iter) or scale the data as shown in:\n",
            "    https://scikit-learn.org/stable/modules/preprocessing.html\n",
            "Please also refer to the documentation for alternative solver options:\n",
            "    https://scikit-learn.org/stable/modules/linear_model.html#logistic-regression\n",
            "  n_iter_i = _check_optimize_result(\n"
          ]
        }
      ]
    },
    {
      "cell_type": "code",
      "source": [
        "x_s1_accuracy"
      ],
      "metadata": {
        "colab": {
          "base_uri": "https://localhost:8080/"
        },
        "id": "4AYpXIN0T8fC",
        "outputId": "c64940f4-8ff3-48a4-b914-772443e2589e"
      },
      "execution_count": 97,
      "outputs": [
        {
          "output_type": "execute_result",
          "data": {
            "text/plain": [
              "[97.96854521625164,\n",
              " 92.39842726081258,\n",
              " 47.05111402359109,\n",
              " 91.74311926605505,\n",
              " 90.56356487549148]"
            ]
          },
          "metadata": {},
          "execution_count": 97
        }
      ]
    },
    {
      "cell_type": "markdown",
      "source": [
        "# Sample2"
      ],
      "metadata": {
        "id": "gPTziClMUCIG"
      }
    },
    {
      "cell_type": "code",
      "source": [
        "X_train=x_s2\n",
        "y_train=y_s2\n",
        "\n",
        "X_test=x_r1\n",
        "y_test=y_r1\n",
        "\n",
        "#XG BOOST\n",
        "import xgboost as xgb\n",
        "from sklearn.model_selection import train_test_split\n",
        "\n",
        "model = xgb.XGBClassifier(max_depth=5, eta=0.7, objective='multi:softmax', num_class=5, n_estimators=10)\n",
        "model.fit(X_train,y_train)\n",
        "\n",
        "predictions = model.predict(X_test)\n",
        "\n",
        "accuracy = (predictions == y_test).mean()\n",
        "print(\"Accuracy1: \", accuracy)\n",
        "x_s2_accuracy.append(accuracy * 100)\n",
        "\n",
        "#------------------------------------------\n",
        "\n",
        "#Desicion Tree\n",
        "from sklearn.metrics import confusion_matrix\n",
        "from sklearn.model_selection import train_test_split\n",
        "from sklearn.tree import DecisionTreeClassifier\n",
        "from sklearn.metrics import accuracy_score\n",
        "from sklearn.metrics import classification_report\n",
        "\n",
        "clf_gini = DecisionTreeClassifier(criterion = \"gini\",random_state = 100,max_depth=3, min_samples_leaf=5)\n",
        "clf_gini.fit(X_train, y_train)\n",
        "\n",
        "y_pred = clf_gini.predict(X_test)\n",
        "\n",
        "accuracy=accuracy_score(y_test,y_pred)\n",
        "print (\"Accuracy2: \",accuracy*100)\n",
        "x_s2_accuracy.append(accuracy * 100)\n",
        "\n",
        "#------------------------------------------\n",
        "\n",
        "#Stochastic Gradient Descent\n",
        "from sklearn.linear_model import SGDClassifier\n",
        "clf = SGDClassifier(loss=\"modified_huber\", penalty=\"l2\", max_iter=1000)\n",
        "clf.fit(X_train, y_train)\n",
        "SGDClassifier(max_iter=5)\n",
        "\n",
        "prediction = clf.predict(X_test)\n",
        "score=clf.score(X_test, y_test)\n",
        "print (\"Accuracy3: \",score*100)\n",
        "x_s2_accuracy.append(score * 100)\n",
        "\n",
        "#------------------------------------------\n",
        "\n",
        "#K-Nearest Neighbours\n",
        "from sklearn.neighbors import KNeighborsClassifier\n",
        "\n",
        "knn = KNeighborsClassifier(n_neighbors=7)\n",
        "knn.fit(X_train, y_train)\n",
        "\n",
        "knn.predict(X_test)\n",
        "\n",
        "score=knn.score(X_test, y_test)\n",
        "print(\"Accuracy4: \",score*100)\n",
        "x_s2_accuracy.append(score * 100)\n",
        "\n",
        "#------------------------------------------\n",
        "\n",
        "#Logistic Regression\n",
        "from sklearn.linear_model import LogisticRegression\n",
        "from sklearn.model_selection import train_test_split\n",
        "from sklearn import datasets\n",
        "\n",
        "lr = LogisticRegression()\n",
        "lr.fit(X_train, y_train)\n",
        "\n",
        "y_pred = lr.predict(X_test)\n",
        "\n",
        "score = lr.score(X_test, y_test)\n",
        "print(\"Accuracy5:\", score*100)\n",
        "x_s2_accuracy.append(score * 100)\n",
        "\n"
      ],
      "metadata": {
        "colab": {
          "base_uri": "https://localhost:8080/"
        },
        "id": "9S4VftqzUBDr",
        "outputId": "f6887651-7502-4bbd-d471-f272ba9f9d8a"
      },
      "execution_count": 98,
      "outputs": [
        {
          "output_type": "stream",
          "name": "stdout",
          "text": [
            "Accuracy1:  0.9757536041939712\n",
            "Accuracy2:  90.1048492791612\n",
            "Accuracy3:  54.78374836173001\n",
            "Accuracy4:  83.15858453473133\n",
            "Accuracy5: 87.48361730013107\n"
          ]
        },
        {
          "output_type": "stream",
          "name": "stderr",
          "text": [
            "/usr/local/lib/python3.8/dist-packages/sklearn/linear_model/_logistic.py:814: ConvergenceWarning: lbfgs failed to converge (status=1):\n",
            "STOP: TOTAL NO. of ITERATIONS REACHED LIMIT.\n",
            "\n",
            "Increase the number of iterations (max_iter) or scale the data as shown in:\n",
            "    https://scikit-learn.org/stable/modules/preprocessing.html\n",
            "Please also refer to the documentation for alternative solver options:\n",
            "    https://scikit-learn.org/stable/modules/linear_model.html#logistic-regression\n",
            "  n_iter_i = _check_optimize_result(\n"
          ]
        }
      ]
    },
    {
      "cell_type": "code",
      "source": [
        "x_s2_accuracy"
      ],
      "metadata": {
        "colab": {
          "base_uri": "https://localhost:8080/"
        },
        "id": "LBksDLDiYcam",
        "outputId": "73f9c7c4-dc35-440f-df1c-917b8323fc20"
      },
      "execution_count": 99,
      "outputs": [
        {
          "output_type": "execute_result",
          "data": {
            "text/plain": [
              "[97.57536041939711,\n",
              " 90.1048492791612,\n",
              " 54.78374836173001,\n",
              " 83.15858453473133,\n",
              " 87.48361730013107]"
            ]
          },
          "metadata": {},
          "execution_count": 99
        }
      ]
    },
    {
      "cell_type": "markdown",
      "source": [
        "# Sample3"
      ],
      "metadata": {
        "id": "uGrA3b2OVCj-"
      }
    },
    {
      "cell_type": "code",
      "source": [
        "X_train=x_s3\n",
        "y_train=y_s3\n",
        "\n",
        "X_test=x_r1\n",
        "y_test=y_r1\n",
        "\n",
        "#XG BOOST\n",
        "import xgboost as xgb\n",
        "from sklearn.model_selection import train_test_split\n",
        "\n",
        "model = xgb.XGBClassifier(max_depth=5, eta=0.7, objective='multi:softmax', num_class=5, n_estimators=10)\n",
        "model.fit(X_train,y_train)\n",
        "\n",
        "predictions = model.predict(X_test)\n",
        "\n",
        "accuracy = (predictions == y_test).mean()\n",
        "print(\"Accuracy1: \", accuracy)\n",
        "x_s3_accuracy.append(accuracy * 100)\n",
        "\n",
        "#------------------------------------------\n",
        "\n",
        "#Desicion Tree\n",
        "from sklearn.metrics import confusion_matrix\n",
        "from sklearn.model_selection import train_test_split\n",
        "from sklearn.tree import DecisionTreeClassifier\n",
        "from sklearn.metrics import accuracy_score\n",
        "from sklearn.metrics import classification_report\n",
        "\n",
        "clf_gini = DecisionTreeClassifier(criterion = \"gini\",random_state = 100,max_depth=3, min_samples_leaf=5)\n",
        "clf_gini.fit(X_train, y_train)\n",
        "\n",
        "y_pred = clf_gini.predict(X_test)\n",
        "\n",
        "accuracy=accuracy_score(y_test,y_pred)\n",
        "print (\"Accuracy2: \",accuracy*100)\n",
        "x_s3_accuracy.append(accuracy * 100)\n",
        "\n",
        "#------------------------------------------\n",
        "\n",
        "#Stochastic Gradient Descent\n",
        "from sklearn.linear_model import SGDClassifier\n",
        "clf = SGDClassifier(loss=\"modified_huber\", penalty=\"l2\", max_iter=1000)\n",
        "clf.fit(X_train, y_train)\n",
        "SGDClassifier(max_iter=5)\n",
        "\n",
        "prediction = clf.predict(X_test)\n",
        "score=clf.score(X_test, y_test)\n",
        "print (\"Accuracy3: \",score*100)\n",
        "x_s3_accuracy.append(score * 100)\n",
        "#------------------------------------------\n",
        "\n",
        "#K-Nearest Neighbours\n",
        "from sklearn.neighbors import KNeighborsClassifier\n",
        "\n",
        "knn = KNeighborsClassifier(n_neighbors=7)\n",
        "knn.fit(X_train, y_train)\n",
        "\n",
        "knn.predict(X_test)\n",
        "\n",
        "score=knn.score(X_test, y_test)\n",
        "print(\"Accuracy4: \",score*100)\n",
        "x_s3_accuracy.append(score * 100)\n",
        "\n",
        "#------------------------------------------\n",
        "\n",
        "#Logistic Regression\n",
        "from sklearn.linear_model import LogisticRegression\n",
        "from sklearn.model_selection import train_test_split\n",
        "from sklearn import datasets\n",
        "\n",
        "lr = LogisticRegression()\n",
        "lr.fit(X_train, y_train)\n",
        "\n",
        "y_pred = lr.predict(X_test)\n",
        "\n",
        "score = lr.score(X_test, y_test)\n",
        "print(\"Accuracy5:\", score*100)\n",
        "x_s3_accuracy.append(score * 100)\n",
        "\n"
      ],
      "metadata": {
        "colab": {
          "base_uri": "https://localhost:8080/"
        },
        "id": "btfaFZEGVEX5",
        "outputId": "69c7e2ae-b009-41de-d3ac-6de40d3ec9ef"
      },
      "execution_count": 100,
      "outputs": [
        {
          "output_type": "stream",
          "name": "stdout",
          "text": [
            "Accuracy1:  0.9882044560943644\n",
            "Accuracy2:  96.26474442988204\n",
            "Accuracy3:  65.92398427260812\n",
            "Accuracy4:  89.31847968545216\n",
            "Accuracy5: 94.16775884665793\n"
          ]
        },
        {
          "output_type": "stream",
          "name": "stderr",
          "text": [
            "/usr/local/lib/python3.8/dist-packages/sklearn/linear_model/_logistic.py:814: ConvergenceWarning: lbfgs failed to converge (status=1):\n",
            "STOP: TOTAL NO. of ITERATIONS REACHED LIMIT.\n",
            "\n",
            "Increase the number of iterations (max_iter) or scale the data as shown in:\n",
            "    https://scikit-learn.org/stable/modules/preprocessing.html\n",
            "Please also refer to the documentation for alternative solver options:\n",
            "    https://scikit-learn.org/stable/modules/linear_model.html#logistic-regression\n",
            "  n_iter_i = _check_optimize_result(\n"
          ]
        }
      ]
    },
    {
      "cell_type": "code",
      "source": [
        "x_s3_accuracy"
      ],
      "metadata": {
        "id": "q9z1WTIsf3ww",
        "colab": {
          "base_uri": "https://localhost:8080/"
        },
        "outputId": "a1434d25-db28-4c03-9343-daa4b997ba36"
      },
      "execution_count": 101,
      "outputs": [
        {
          "output_type": "execute_result",
          "data": {
            "text/plain": [
              "[98.82044560943643,\n",
              " 96.26474442988204,\n",
              " 65.92398427260812,\n",
              " 89.31847968545216,\n",
              " 94.16775884665793]"
            ]
          },
          "metadata": {},
          "execution_count": 101
        }
      ]
    },
    {
      "cell_type": "markdown",
      "source": [
        "# Sample4"
      ],
      "metadata": {
        "id": "6KteObmRVKdD"
      }
    },
    {
      "cell_type": "code",
      "source": [
        "X_train=x_s4\n",
        "y_train=y_s4\n",
        "\n",
        "X_test=x_r1\n",
        "y_test=y_r1\n",
        "\n",
        "#XG BOOST\n",
        "import xgboost as xgb\n",
        "from sklearn.model_selection import train_test_split\n",
        "\n",
        "model = xgb.XGBClassifier(max_depth=5, eta=0.7, objective='multi:softmax', num_class=5, n_estimators=10)\n",
        "model.fit(X_train,y_train)\n",
        "\n",
        "predictions = model.predict(X_test)\n",
        "\n",
        "accuracy = (predictions == y_test).mean()\n",
        "print(\"Accuracy1: \", accuracy)\n",
        "x_s4_accuracy.append(accuracy * 100)\n",
        "\n",
        "#------------------------------------------\n",
        "\n",
        "#Desicion Tree\n",
        "from sklearn.metrics import confusion_matrix\n",
        "from sklearn.model_selection import train_test_split\n",
        "from sklearn.tree import DecisionTreeClassifier\n",
        "from sklearn.metrics import accuracy_score\n",
        "from sklearn.metrics import classification_report\n",
        "\n",
        "clf_gini = DecisionTreeClassifier(criterion = \"gini\",random_state = 100,max_depth=3, min_samples_leaf=5)\n",
        "clf_gini.fit(X_train, y_train)\n",
        "\n",
        "y_pred = clf_gini.predict(X_test)\n",
        "\n",
        "accuracy=accuracy_score(y_test,y_pred)\n",
        "print (\"Accuracy2: \",accuracy*100)\n",
        "x_s4_accuracy.append(accuracy * 100)\n",
        "\n",
        "#------------------------------------------\n",
        "\n",
        "#Stochastic Gradient Descent\n",
        "from sklearn.linear_model import SGDClassifier\n",
        "clf = SGDClassifier(loss=\"modified_huber\", penalty=\"l2\", max_iter=1000)\n",
        "clf.fit(X_train, y_train)\n",
        "SGDClassifier(max_iter=5)\n",
        "\n",
        "prediction = clf.predict(X_test)\n",
        "score=clf.score(X_test, y_test)\n",
        "print (\"Accuracy3: \",score*100)\n",
        "x_s4_accuracy.append(score * 100)\n",
        "\n",
        "#------------------------------------------\n",
        "\n",
        "#K-Nearest Neighbours\n",
        "from sklearn.neighbors import KNeighborsClassifier\n",
        "\n",
        "knn = KNeighborsClassifier(n_neighbors=7)\n",
        "knn.fit(X_train, y_train)\n",
        "\n",
        "knn.predict(X_test)\n",
        "\n",
        "score=knn.score(X_test, y_test)\n",
        "print(\"Accuracy4: \",score*100)\n",
        "x_s4_accuracy.append(score * 100)\n",
        "\n",
        "#------------------------------------------\n",
        "\n",
        "#Logistic Regression\n",
        "from sklearn.linear_model import LogisticRegression\n",
        "from sklearn.model_selection import train_test_split\n",
        "from sklearn import datasets\n",
        "\n",
        "lr = LogisticRegression()\n",
        "lr.fit(X_train, y_train)\n",
        "\n",
        "y_pred = lr.predict(X_test)\n",
        "\n",
        "score = lr.score(X_test, y_test)\n",
        "print(\"Accuracy5:\", score*100)\n",
        "x_s4_accuracy.append(score * 100)\n",
        "\n"
      ],
      "metadata": {
        "colab": {
          "base_uri": "https://localhost:8080/"
        },
        "id": "xra2Z4R2VMaB",
        "outputId": "3f50ef74-a341-4e4c-8c13-5404e765fa8f"
      },
      "execution_count": 102,
      "outputs": [
        {
          "output_type": "stream",
          "name": "stdout",
          "text": [
            "Accuracy1:  0.9403669724770642\n",
            "Accuracy2:  87.61467889908256\n",
            "Accuracy3:  74.63958060288336\n",
            "Accuracy4:  85.25557011795544\n",
            "Accuracy5: 92.39842726081258\n"
          ]
        },
        {
          "output_type": "stream",
          "name": "stderr",
          "text": [
            "/usr/local/lib/python3.8/dist-packages/sklearn/linear_model/_logistic.py:814: ConvergenceWarning: lbfgs failed to converge (status=1):\n",
            "STOP: TOTAL NO. of ITERATIONS REACHED LIMIT.\n",
            "\n",
            "Increase the number of iterations (max_iter) or scale the data as shown in:\n",
            "    https://scikit-learn.org/stable/modules/preprocessing.html\n",
            "Please also refer to the documentation for alternative solver options:\n",
            "    https://scikit-learn.org/stable/modules/linear_model.html#logistic-regression\n",
            "  n_iter_i = _check_optimize_result(\n"
          ]
        }
      ]
    },
    {
      "cell_type": "code",
      "source": [
        "x_s4_accuracy"
      ],
      "metadata": {
        "colab": {
          "base_uri": "https://localhost:8080/"
        },
        "id": "yb6XaIVGozdr",
        "outputId": "c0dd27c1-4610-4aac-f110-57c346e66283"
      },
      "execution_count": 103,
      "outputs": [
        {
          "output_type": "execute_result",
          "data": {
            "text/plain": [
              "[94.03669724770643,\n",
              " 87.61467889908256,\n",
              " 74.63958060288336,\n",
              " 85.25557011795544,\n",
              " 92.39842726081258]"
            ]
          },
          "metadata": {},
          "execution_count": 103
        }
      ]
    },
    {
      "cell_type": "markdown",
      "source": [
        "# Sample5"
      ],
      "metadata": {
        "id": "ahIc6cbDVSrt"
      }
    },
    {
      "cell_type": "code",
      "source": [
        "X_train=x_s5\n",
        "y_train=y_s5\n",
        "\n",
        "X_test=x_r1\n",
        "y_test=y_r1\n",
        "\n",
        "#XG BOOST\n",
        "import xgboost as xgb\n",
        "from sklearn.model_selection import train_test_split\n",
        "\n",
        "model = xgb.XGBClassifier(max_depth=5, eta=0.7, objective='multi:softmax', num_class=5, n_estimators=10)\n",
        "model.fit(X_train,y_train)\n",
        "\n",
        "predictions = model.predict(X_test)\n",
        "\n",
        "accuracy = (predictions == y_test).mean()\n",
        "print(\"Accuracy1: \", accuracy)\n",
        "x_s5_accuracy.append(accuracy * 100)\n",
        "\n",
        "#------------------------------------------\n",
        "\n",
        "#Desicion Tree\n",
        "from sklearn.metrics import confusion_matrix\n",
        "from sklearn.model_selection import train_test_split\n",
        "from sklearn.tree import DecisionTreeClassifier\n",
        "from sklearn.metrics import accuracy_score\n",
        "from sklearn.metrics import classification_report\n",
        "\n",
        "clf_gini = DecisionTreeClassifier(criterion = \"gini\",random_state = 100,max_depth=3, min_samples_leaf=5)\n",
        "clf_gini.fit(X_train, y_train)\n",
        "\n",
        "y_pred = clf_gini.predict(X_test)\n",
        "\n",
        "accuracy=accuracy_score(y_test,y_pred)\n",
        "print (\"Accuracy2: \",accuracy*100)\n",
        "x_s5_accuracy.append(accuracy * 100)\n",
        "\n",
        "#------------------------------------------\n",
        "\n",
        "#Stochastic Gradient Descent\n",
        "from sklearn.linear_model import SGDClassifier\n",
        "clf = SGDClassifier(loss=\"modified_huber\", penalty=\"l2\", max_iter=1000)\n",
        "clf.fit(X_train, y_train)\n",
        "SGDClassifier(max_iter=10)\n",
        "\n",
        "prediction = clf.predict(X_test)\n",
        "score=clf.score(X_test, y_test)\n",
        "print (\"Accuracy3: \",score*100)\n",
        "x_s5_accuracy.append(score * 100)\n",
        "\n",
        "#------------------------------------------\n",
        "\n",
        "#K-Nearest Neighbours\n",
        "from sklearn.neighbors import KNeighborsClassifier\n",
        "\n",
        "knn = KNeighborsClassifier(n_neighbors=7)\n",
        "knn.fit(X_train, y_train)\n",
        "\n",
        "knn.predict(X_test)\n",
        "\n",
        "score=knn.score(X_test, y_test)\n",
        "print(\"Accuracy4: \",score*100)\n",
        "x_s5_accuracy.append(score * 100)\n",
        "\n",
        "#------------------------------------------\n",
        "\n",
        "#Logistic Regression\n",
        "from sklearn.linear_model import LogisticRegression\n",
        "from sklearn.model_selection import train_test_split\n",
        "from sklearn import datasets\n",
        "\n",
        "lr = LogisticRegression()\n",
        "lr.fit(X_train, y_train)\n",
        "\n",
        "y_pred = lr.predict(X_test)\n",
        "\n",
        "score = lr.score(X_test, y_test)\n",
        "print(\"Accuracy5:\", score*100)\n",
        "x_s5_accuracy.append(score * 100)\n",
        "\n"
      ],
      "metadata": {
        "id": "-Ah5mWgxVUnS",
        "colab": {
          "base_uri": "https://localhost:8080/"
        },
        "outputId": "821be7d5-12b9-4e3d-c49a-0170f7acfeb9"
      },
      "execution_count": 104,
      "outputs": [
        {
          "output_type": "stream",
          "name": "stdout",
          "text": [
            "Accuracy1:  0.9659239842726082\n",
            "Accuracy2:  93.25032765399737\n",
            "Accuracy3:  49.737876802096984\n",
            "Accuracy4:  85.64875491480997\n",
            "Accuracy5: 85.3211009174312\n"
          ]
        },
        {
          "output_type": "stream",
          "name": "stderr",
          "text": [
            "/usr/local/lib/python3.8/dist-packages/sklearn/linear_model/_logistic.py:814: ConvergenceWarning: lbfgs failed to converge (status=1):\n",
            "STOP: TOTAL NO. of ITERATIONS REACHED LIMIT.\n",
            "\n",
            "Increase the number of iterations (max_iter) or scale the data as shown in:\n",
            "    https://scikit-learn.org/stable/modules/preprocessing.html\n",
            "Please also refer to the documentation for alternative solver options:\n",
            "    https://scikit-learn.org/stable/modules/linear_model.html#logistic-regression\n",
            "  n_iter_i = _check_optimize_result(\n"
          ]
        }
      ]
    },
    {
      "cell_type": "code",
      "source": [
        "x_s5_accuracy"
      ],
      "metadata": {
        "colab": {
          "base_uri": "https://localhost:8080/"
        },
        "id": "AHygyyAAo7xD",
        "outputId": "bf3806f8-48ee-462b-da71-730e578131c7"
      },
      "execution_count": 105,
      "outputs": [
        {
          "output_type": "execute_result",
          "data": {
            "text/plain": [
              "[96.59239842726082,\n",
              " 93.25032765399737,\n",
              " 49.737876802096984,\n",
              " 85.64875491480997,\n",
              " 85.3211009174312]"
            ]
          },
          "metadata": {},
          "execution_count": 105
        }
      ]
    },
    {
      "cell_type": "code",
      "source": [
        "FinalData=pd.DataFrame(data=(x_s1_accuracy,x_s2_accuracy,x_s3_accuracy,x_s4_accuracy,x_s5_accuracy))"
      ],
      "metadata": {
        "id": "X9OMkUrQpD_6"
      },
      "execution_count": 106,
      "outputs": []
    },
    {
      "cell_type": "code",
      "source": [
        "FinalData"
      ],
      "metadata": {
        "colab": {
          "base_uri": "https://localhost:8080/",
          "height": 206
        },
        "id": "X0QvlmX8pKBN",
        "outputId": "f770873c-a0e8-424f-dd92-8e14e89dc3a5"
      },
      "execution_count": 107,
      "outputs": [
        {
          "output_type": "execute_result",
          "data": {
            "text/plain": [
              "           0          1          2          3          4\n",
              "0  97.968545  92.398427  47.051114  91.743119  90.563565\n",
              "1  97.575360  90.104849  54.783748  83.158585  87.483617\n",
              "2  98.820446  96.264744  65.923984  89.318480  94.167759\n",
              "3  94.036697  87.614679  74.639581  85.255570  92.398427\n",
              "4  96.592398  93.250328  49.737877  85.648755  85.321101"
            ],
            "text/html": [
              "\n",
              "  <div id=\"df-90f976a1-c2e3-44cf-a151-ba4ce669ffc4\">\n",
              "    <div class=\"colab-df-container\">\n",
              "      <div>\n",
              "<style scoped>\n",
              "    .dataframe tbody tr th:only-of-type {\n",
              "        vertical-align: middle;\n",
              "    }\n",
              "\n",
              "    .dataframe tbody tr th {\n",
              "        vertical-align: top;\n",
              "    }\n",
              "\n",
              "    .dataframe thead th {\n",
              "        text-align: right;\n",
              "    }\n",
              "</style>\n",
              "<table border=\"1\" class=\"dataframe\">\n",
              "  <thead>\n",
              "    <tr style=\"text-align: right;\">\n",
              "      <th></th>\n",
              "      <th>0</th>\n",
              "      <th>1</th>\n",
              "      <th>2</th>\n",
              "      <th>3</th>\n",
              "      <th>4</th>\n",
              "    </tr>\n",
              "  </thead>\n",
              "  <tbody>\n",
              "    <tr>\n",
              "      <th>0</th>\n",
              "      <td>97.968545</td>\n",
              "      <td>92.398427</td>\n",
              "      <td>47.051114</td>\n",
              "      <td>91.743119</td>\n",
              "      <td>90.563565</td>\n",
              "    </tr>\n",
              "    <tr>\n",
              "      <th>1</th>\n",
              "      <td>97.575360</td>\n",
              "      <td>90.104849</td>\n",
              "      <td>54.783748</td>\n",
              "      <td>83.158585</td>\n",
              "      <td>87.483617</td>\n",
              "    </tr>\n",
              "    <tr>\n",
              "      <th>2</th>\n",
              "      <td>98.820446</td>\n",
              "      <td>96.264744</td>\n",
              "      <td>65.923984</td>\n",
              "      <td>89.318480</td>\n",
              "      <td>94.167759</td>\n",
              "    </tr>\n",
              "    <tr>\n",
              "      <th>3</th>\n",
              "      <td>94.036697</td>\n",
              "      <td>87.614679</td>\n",
              "      <td>74.639581</td>\n",
              "      <td>85.255570</td>\n",
              "      <td>92.398427</td>\n",
              "    </tr>\n",
              "    <tr>\n",
              "      <th>4</th>\n",
              "      <td>96.592398</td>\n",
              "      <td>93.250328</td>\n",
              "      <td>49.737877</td>\n",
              "      <td>85.648755</td>\n",
              "      <td>85.321101</td>\n",
              "    </tr>\n",
              "  </tbody>\n",
              "</table>\n",
              "</div>\n",
              "      <button class=\"colab-df-convert\" onclick=\"convertToInteractive('df-90f976a1-c2e3-44cf-a151-ba4ce669ffc4')\"\n",
              "              title=\"Convert this dataframe to an interactive table.\"\n",
              "              style=\"display:none;\">\n",
              "        \n",
              "  <svg xmlns=\"http://www.w3.org/2000/svg\" height=\"24px\"viewBox=\"0 0 24 24\"\n",
              "       width=\"24px\">\n",
              "    <path d=\"M0 0h24v24H0V0z\" fill=\"none\"/>\n",
              "    <path d=\"M18.56 5.44l.94 2.06.94-2.06 2.06-.94-2.06-.94-.94-2.06-.94 2.06-2.06.94zm-11 1L8.5 8.5l.94-2.06 2.06-.94-2.06-.94L8.5 2.5l-.94 2.06-2.06.94zm10 10l.94 2.06.94-2.06 2.06-.94-2.06-.94-.94-2.06-.94 2.06-2.06.94z\"/><path d=\"M17.41 7.96l-1.37-1.37c-.4-.4-.92-.59-1.43-.59-.52 0-1.04.2-1.43.59L10.3 9.45l-7.72 7.72c-.78.78-.78 2.05 0 2.83L4 21.41c.39.39.9.59 1.41.59.51 0 1.02-.2 1.41-.59l7.78-7.78 2.81-2.81c.8-.78.8-2.07 0-2.86zM5.41 20L4 18.59l7.72-7.72 1.47 1.35L5.41 20z\"/>\n",
              "  </svg>\n",
              "      </button>\n",
              "      \n",
              "  <style>\n",
              "    .colab-df-container {\n",
              "      display:flex;\n",
              "      flex-wrap:wrap;\n",
              "      gap: 12px;\n",
              "    }\n",
              "\n",
              "    .colab-df-convert {\n",
              "      background-color: #E8F0FE;\n",
              "      border: none;\n",
              "      border-radius: 50%;\n",
              "      cursor: pointer;\n",
              "      display: none;\n",
              "      fill: #1967D2;\n",
              "      height: 32px;\n",
              "      padding: 0 0 0 0;\n",
              "      width: 32px;\n",
              "    }\n",
              "\n",
              "    .colab-df-convert:hover {\n",
              "      background-color: #E2EBFA;\n",
              "      box-shadow: 0px 1px 2px rgba(60, 64, 67, 0.3), 0px 1px 3px 1px rgba(60, 64, 67, 0.15);\n",
              "      fill: #174EA6;\n",
              "    }\n",
              "\n",
              "    [theme=dark] .colab-df-convert {\n",
              "      background-color: #3B4455;\n",
              "      fill: #D2E3FC;\n",
              "    }\n",
              "\n",
              "    [theme=dark] .colab-df-convert:hover {\n",
              "      background-color: #434B5C;\n",
              "      box-shadow: 0px 1px 3px 1px rgba(0, 0, 0, 0.15);\n",
              "      filter: drop-shadow(0px 1px 2px rgba(0, 0, 0, 0.3));\n",
              "      fill: #FFFFFF;\n",
              "    }\n",
              "  </style>\n",
              "\n",
              "      <script>\n",
              "        const buttonEl =\n",
              "          document.querySelector('#df-90f976a1-c2e3-44cf-a151-ba4ce669ffc4 button.colab-df-convert');\n",
              "        buttonEl.style.display =\n",
              "          google.colab.kernel.accessAllowed ? 'block' : 'none';\n",
              "\n",
              "        async function convertToInteractive(key) {\n",
              "          const element = document.querySelector('#df-90f976a1-c2e3-44cf-a151-ba4ce669ffc4');\n",
              "          const dataTable =\n",
              "            await google.colab.kernel.invokeFunction('convertToInteractive',\n",
              "                                                     [key], {});\n",
              "          if (!dataTable) return;\n",
              "\n",
              "          const docLinkHtml = 'Like what you see? Visit the ' +\n",
              "            '<a target=\"_blank\" href=https://colab.research.google.com/notebooks/data_table.ipynb>data table notebook</a>'\n",
              "            + ' to learn more about interactive tables.';\n",
              "          element.innerHTML = '';\n",
              "          dataTable['output_type'] = 'display_data';\n",
              "          await google.colab.output.renderOutput(dataTable, element);\n",
              "          const docLink = document.createElement('div');\n",
              "          docLink.innerHTML = docLinkHtml;\n",
              "          element.appendChild(docLink);\n",
              "        }\n",
              "      </script>\n",
              "    </div>\n",
              "  </div>\n",
              "  "
            ]
          },
          "metadata": {},
          "execution_count": 107
        }
      ]
    },
    {
      "cell_type": "code",
      "source": [
        "FinalData=FinalData.transpose()\n",
        "FinalData"
      ],
      "metadata": {
        "colab": {
          "base_uri": "https://localhost:8080/",
          "height": 206
        },
        "id": "fS66OSJSpale",
        "outputId": "0c3fef34-37a8-4a97-dab5-9d6bb4915ff5"
      },
      "execution_count": 108,
      "outputs": [
        {
          "output_type": "execute_result",
          "data": {
            "text/plain": [
              "           0          1          2          3          4\n",
              "0  97.968545  97.575360  98.820446  94.036697  96.592398\n",
              "1  92.398427  90.104849  96.264744  87.614679  93.250328\n",
              "2  47.051114  54.783748  65.923984  74.639581  49.737877\n",
              "3  91.743119  83.158585  89.318480  85.255570  85.648755\n",
              "4  90.563565  87.483617  94.167759  92.398427  85.321101"
            ],
            "text/html": [
              "\n",
              "  <div id=\"df-b4f2136a-8976-4c72-99ce-a2af650f44c2\">\n",
              "    <div class=\"colab-df-container\">\n",
              "      <div>\n",
              "<style scoped>\n",
              "    .dataframe tbody tr th:only-of-type {\n",
              "        vertical-align: middle;\n",
              "    }\n",
              "\n",
              "    .dataframe tbody tr th {\n",
              "        vertical-align: top;\n",
              "    }\n",
              "\n",
              "    .dataframe thead th {\n",
              "        text-align: right;\n",
              "    }\n",
              "</style>\n",
              "<table border=\"1\" class=\"dataframe\">\n",
              "  <thead>\n",
              "    <tr style=\"text-align: right;\">\n",
              "      <th></th>\n",
              "      <th>0</th>\n",
              "      <th>1</th>\n",
              "      <th>2</th>\n",
              "      <th>3</th>\n",
              "      <th>4</th>\n",
              "    </tr>\n",
              "  </thead>\n",
              "  <tbody>\n",
              "    <tr>\n",
              "      <th>0</th>\n",
              "      <td>97.968545</td>\n",
              "      <td>97.575360</td>\n",
              "      <td>98.820446</td>\n",
              "      <td>94.036697</td>\n",
              "      <td>96.592398</td>\n",
              "    </tr>\n",
              "    <tr>\n",
              "      <th>1</th>\n",
              "      <td>92.398427</td>\n",
              "      <td>90.104849</td>\n",
              "      <td>96.264744</td>\n",
              "      <td>87.614679</td>\n",
              "      <td>93.250328</td>\n",
              "    </tr>\n",
              "    <tr>\n",
              "      <th>2</th>\n",
              "      <td>47.051114</td>\n",
              "      <td>54.783748</td>\n",
              "      <td>65.923984</td>\n",
              "      <td>74.639581</td>\n",
              "      <td>49.737877</td>\n",
              "    </tr>\n",
              "    <tr>\n",
              "      <th>3</th>\n",
              "      <td>91.743119</td>\n",
              "      <td>83.158585</td>\n",
              "      <td>89.318480</td>\n",
              "      <td>85.255570</td>\n",
              "      <td>85.648755</td>\n",
              "    </tr>\n",
              "    <tr>\n",
              "      <th>4</th>\n",
              "      <td>90.563565</td>\n",
              "      <td>87.483617</td>\n",
              "      <td>94.167759</td>\n",
              "      <td>92.398427</td>\n",
              "      <td>85.321101</td>\n",
              "    </tr>\n",
              "  </tbody>\n",
              "</table>\n",
              "</div>\n",
              "      <button class=\"colab-df-convert\" onclick=\"convertToInteractive('df-b4f2136a-8976-4c72-99ce-a2af650f44c2')\"\n",
              "              title=\"Convert this dataframe to an interactive table.\"\n",
              "              style=\"display:none;\">\n",
              "        \n",
              "  <svg xmlns=\"http://www.w3.org/2000/svg\" height=\"24px\"viewBox=\"0 0 24 24\"\n",
              "       width=\"24px\">\n",
              "    <path d=\"M0 0h24v24H0V0z\" fill=\"none\"/>\n",
              "    <path d=\"M18.56 5.44l.94 2.06.94-2.06 2.06-.94-2.06-.94-.94-2.06-.94 2.06-2.06.94zm-11 1L8.5 8.5l.94-2.06 2.06-.94-2.06-.94L8.5 2.5l-.94 2.06-2.06.94zm10 10l.94 2.06.94-2.06 2.06-.94-2.06-.94-.94-2.06-.94 2.06-2.06.94z\"/><path d=\"M17.41 7.96l-1.37-1.37c-.4-.4-.92-.59-1.43-.59-.52 0-1.04.2-1.43.59L10.3 9.45l-7.72 7.72c-.78.78-.78 2.05 0 2.83L4 21.41c.39.39.9.59 1.41.59.51 0 1.02-.2 1.41-.59l7.78-7.78 2.81-2.81c.8-.78.8-2.07 0-2.86zM5.41 20L4 18.59l7.72-7.72 1.47 1.35L5.41 20z\"/>\n",
              "  </svg>\n",
              "      </button>\n",
              "      \n",
              "  <style>\n",
              "    .colab-df-container {\n",
              "      display:flex;\n",
              "      flex-wrap:wrap;\n",
              "      gap: 12px;\n",
              "    }\n",
              "\n",
              "    .colab-df-convert {\n",
              "      background-color: #E8F0FE;\n",
              "      border: none;\n",
              "      border-radius: 50%;\n",
              "      cursor: pointer;\n",
              "      display: none;\n",
              "      fill: #1967D2;\n",
              "      height: 32px;\n",
              "      padding: 0 0 0 0;\n",
              "      width: 32px;\n",
              "    }\n",
              "\n",
              "    .colab-df-convert:hover {\n",
              "      background-color: #E2EBFA;\n",
              "      box-shadow: 0px 1px 2px rgba(60, 64, 67, 0.3), 0px 1px 3px 1px rgba(60, 64, 67, 0.15);\n",
              "      fill: #174EA6;\n",
              "    }\n",
              "\n",
              "    [theme=dark] .colab-df-convert {\n",
              "      background-color: #3B4455;\n",
              "      fill: #D2E3FC;\n",
              "    }\n",
              "\n",
              "    [theme=dark] .colab-df-convert:hover {\n",
              "      background-color: #434B5C;\n",
              "      box-shadow: 0px 1px 3px 1px rgba(0, 0, 0, 0.15);\n",
              "      filter: drop-shadow(0px 1px 2px rgba(0, 0, 0, 0.3));\n",
              "      fill: #FFFFFF;\n",
              "    }\n",
              "  </style>\n",
              "\n",
              "      <script>\n",
              "        const buttonEl =\n",
              "          document.querySelector('#df-b4f2136a-8976-4c72-99ce-a2af650f44c2 button.colab-df-convert');\n",
              "        buttonEl.style.display =\n",
              "          google.colab.kernel.accessAllowed ? 'block' : 'none';\n",
              "\n",
              "        async function convertToInteractive(key) {\n",
              "          const element = document.querySelector('#df-b4f2136a-8976-4c72-99ce-a2af650f44c2');\n",
              "          const dataTable =\n",
              "            await google.colab.kernel.invokeFunction('convertToInteractive',\n",
              "                                                     [key], {});\n",
              "          if (!dataTable) return;\n",
              "\n",
              "          const docLinkHtml = 'Like what you see? Visit the ' +\n",
              "            '<a target=\"_blank\" href=https://colab.research.google.com/notebooks/data_table.ipynb>data table notebook</a>'\n",
              "            + ' to learn more about interactive tables.';\n",
              "          element.innerHTML = '';\n",
              "          dataTable['output_type'] = 'display_data';\n",
              "          await google.colab.output.renderOutput(dataTable, element);\n",
              "          const docLink = document.createElement('div');\n",
              "          docLink.innerHTML = docLinkHtml;\n",
              "          element.appendChild(docLink);\n",
              "        }\n",
              "      </script>\n",
              "    </div>\n",
              "  </div>\n",
              "  "
            ]
          },
          "metadata": {},
          "execution_count": 108
        }
      ]
    },
    {
      "cell_type": "code",
      "source": [
        "FinalData.index=['XG BOOST','Desicion Tree','Stochastic Gradient Descent','K-Nearest Neighbours','Logistic Regression']\n",
        "FinalData.columns=['Sample1: Random ','Sample2: Stratified','Sample3: SMOTE','Sample4: SMOTE-ENN','Sample5: Systematic']"
      ],
      "metadata": {
        "id": "LrGhr-62pf3c"
      },
      "execution_count": 111,
      "outputs": []
    },
    {
      "cell_type": "code",
      "source": [
        "FinalData"
      ],
      "metadata": {
        "colab": {
          "base_uri": "https://localhost:8080/",
          "height": 206
        },
        "id": "eQl9fKxUqJNs",
        "outputId": "bc158c4d-40aa-40ad-c7cd-2608162d9372"
      },
      "execution_count": 112,
      "outputs": [
        {
          "output_type": "execute_result",
          "data": {
            "text/plain": [
              "                             Sample1: Random   Sample2: Stratified  \\\n",
              "XG BOOST                            97.968545            97.575360   \n",
              "Desicion Tree                       92.398427            90.104849   \n",
              "Stochastic Gradient Descent         47.051114            54.783748   \n",
              "K-Nearest Neighbours                91.743119            83.158585   \n",
              "Logistic Regression                 90.563565            87.483617   \n",
              "\n",
              "                             Sample3: SMOTE  Sample4: SMOTE-ENN  \\\n",
              "XG BOOST                          98.820446           94.036697   \n",
              "Desicion Tree                     96.264744           87.614679   \n",
              "Stochastic Gradient Descent       65.923984           74.639581   \n",
              "K-Nearest Neighbours              89.318480           85.255570   \n",
              "Logistic Regression               94.167759           92.398427   \n",
              "\n",
              "                             Sample5: Systematic  \n",
              "XG BOOST                               96.592398  \n",
              "Desicion Tree                          93.250328  \n",
              "Stochastic Gradient Descent            49.737877  \n",
              "K-Nearest Neighbours                   85.648755  \n",
              "Logistic Regression                    85.321101  "
            ],
            "text/html": [
              "\n",
              "  <div id=\"df-123b139b-0e5f-4856-a3d3-cc0aba024fc1\">\n",
              "    <div class=\"colab-df-container\">\n",
              "      <div>\n",
              "<style scoped>\n",
              "    .dataframe tbody tr th:only-of-type {\n",
              "        vertical-align: middle;\n",
              "    }\n",
              "\n",
              "    .dataframe tbody tr th {\n",
              "        vertical-align: top;\n",
              "    }\n",
              "\n",
              "    .dataframe thead th {\n",
              "        text-align: right;\n",
              "    }\n",
              "</style>\n",
              "<table border=\"1\" class=\"dataframe\">\n",
              "  <thead>\n",
              "    <tr style=\"text-align: right;\">\n",
              "      <th></th>\n",
              "      <th>Sample1: Random</th>\n",
              "      <th>Sample2: Stratified</th>\n",
              "      <th>Sample3: SMOTE</th>\n",
              "      <th>Sample4: SMOTE-ENN</th>\n",
              "      <th>Sample5: Systematic</th>\n",
              "    </tr>\n",
              "  </thead>\n",
              "  <tbody>\n",
              "    <tr>\n",
              "      <th>XG BOOST</th>\n",
              "      <td>97.968545</td>\n",
              "      <td>97.575360</td>\n",
              "      <td>98.820446</td>\n",
              "      <td>94.036697</td>\n",
              "      <td>96.592398</td>\n",
              "    </tr>\n",
              "    <tr>\n",
              "      <th>Desicion Tree</th>\n",
              "      <td>92.398427</td>\n",
              "      <td>90.104849</td>\n",
              "      <td>96.264744</td>\n",
              "      <td>87.614679</td>\n",
              "      <td>93.250328</td>\n",
              "    </tr>\n",
              "    <tr>\n",
              "      <th>Stochastic Gradient Descent</th>\n",
              "      <td>47.051114</td>\n",
              "      <td>54.783748</td>\n",
              "      <td>65.923984</td>\n",
              "      <td>74.639581</td>\n",
              "      <td>49.737877</td>\n",
              "    </tr>\n",
              "    <tr>\n",
              "      <th>K-Nearest Neighbours</th>\n",
              "      <td>91.743119</td>\n",
              "      <td>83.158585</td>\n",
              "      <td>89.318480</td>\n",
              "      <td>85.255570</td>\n",
              "      <td>85.648755</td>\n",
              "    </tr>\n",
              "    <tr>\n",
              "      <th>Logistic Regression</th>\n",
              "      <td>90.563565</td>\n",
              "      <td>87.483617</td>\n",
              "      <td>94.167759</td>\n",
              "      <td>92.398427</td>\n",
              "      <td>85.321101</td>\n",
              "    </tr>\n",
              "  </tbody>\n",
              "</table>\n",
              "</div>\n",
              "      <button class=\"colab-df-convert\" onclick=\"convertToInteractive('df-123b139b-0e5f-4856-a3d3-cc0aba024fc1')\"\n",
              "              title=\"Convert this dataframe to an interactive table.\"\n",
              "              style=\"display:none;\">\n",
              "        \n",
              "  <svg xmlns=\"http://www.w3.org/2000/svg\" height=\"24px\"viewBox=\"0 0 24 24\"\n",
              "       width=\"24px\">\n",
              "    <path d=\"M0 0h24v24H0V0z\" fill=\"none\"/>\n",
              "    <path d=\"M18.56 5.44l.94 2.06.94-2.06 2.06-.94-2.06-.94-.94-2.06-.94 2.06-2.06.94zm-11 1L8.5 8.5l.94-2.06 2.06-.94-2.06-.94L8.5 2.5l-.94 2.06-2.06.94zm10 10l.94 2.06.94-2.06 2.06-.94-2.06-.94-.94-2.06-.94 2.06-2.06.94z\"/><path d=\"M17.41 7.96l-1.37-1.37c-.4-.4-.92-.59-1.43-.59-.52 0-1.04.2-1.43.59L10.3 9.45l-7.72 7.72c-.78.78-.78 2.05 0 2.83L4 21.41c.39.39.9.59 1.41.59.51 0 1.02-.2 1.41-.59l7.78-7.78 2.81-2.81c.8-.78.8-2.07 0-2.86zM5.41 20L4 18.59l7.72-7.72 1.47 1.35L5.41 20z\"/>\n",
              "  </svg>\n",
              "      </button>\n",
              "      \n",
              "  <style>\n",
              "    .colab-df-container {\n",
              "      display:flex;\n",
              "      flex-wrap:wrap;\n",
              "      gap: 12px;\n",
              "    }\n",
              "\n",
              "    .colab-df-convert {\n",
              "      background-color: #E8F0FE;\n",
              "      border: none;\n",
              "      border-radius: 50%;\n",
              "      cursor: pointer;\n",
              "      display: none;\n",
              "      fill: #1967D2;\n",
              "      height: 32px;\n",
              "      padding: 0 0 0 0;\n",
              "      width: 32px;\n",
              "    }\n",
              "\n",
              "    .colab-df-convert:hover {\n",
              "      background-color: #E2EBFA;\n",
              "      box-shadow: 0px 1px 2px rgba(60, 64, 67, 0.3), 0px 1px 3px 1px rgba(60, 64, 67, 0.15);\n",
              "      fill: #174EA6;\n",
              "    }\n",
              "\n",
              "    [theme=dark] .colab-df-convert {\n",
              "      background-color: #3B4455;\n",
              "      fill: #D2E3FC;\n",
              "    }\n",
              "\n",
              "    [theme=dark] .colab-df-convert:hover {\n",
              "      background-color: #434B5C;\n",
              "      box-shadow: 0px 1px 3px 1px rgba(0, 0, 0, 0.15);\n",
              "      filter: drop-shadow(0px 1px 2px rgba(0, 0, 0, 0.3));\n",
              "      fill: #FFFFFF;\n",
              "    }\n",
              "  </style>\n",
              "\n",
              "      <script>\n",
              "        const buttonEl =\n",
              "          document.querySelector('#df-123b139b-0e5f-4856-a3d3-cc0aba024fc1 button.colab-df-convert');\n",
              "        buttonEl.style.display =\n",
              "          google.colab.kernel.accessAllowed ? 'block' : 'none';\n",
              "\n",
              "        async function convertToInteractive(key) {\n",
              "          const element = document.querySelector('#df-123b139b-0e5f-4856-a3d3-cc0aba024fc1');\n",
              "          const dataTable =\n",
              "            await google.colab.kernel.invokeFunction('convertToInteractive',\n",
              "                                                     [key], {});\n",
              "          if (!dataTable) return;\n",
              "\n",
              "          const docLinkHtml = 'Like what you see? Visit the ' +\n",
              "            '<a target=\"_blank\" href=https://colab.research.google.com/notebooks/data_table.ipynb>data table notebook</a>'\n",
              "            + ' to learn more about interactive tables.';\n",
              "          element.innerHTML = '';\n",
              "          dataTable['output_type'] = 'display_data';\n",
              "          await google.colab.output.renderOutput(dataTable, element);\n",
              "          const docLink = document.createElement('div');\n",
              "          docLink.innerHTML = docLinkHtml;\n",
              "          element.appendChild(docLink);\n",
              "        }\n",
              "      </script>\n",
              "    </div>\n",
              "  </div>\n",
              "  "
            ]
          },
          "metadata": {},
          "execution_count": 112
        }
      ]
    }
  ]
}